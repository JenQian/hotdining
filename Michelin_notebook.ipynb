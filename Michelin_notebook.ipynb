{
 "cells": [
  {
   "cell_type": "code",
   "execution_count": 1,
   "metadata": {},
   "outputs": [],
   "source": [
    "# Import Dependencies\n",
    "from mpl_toolkits.mplot3d import Axes3D\n",
    "from sklearn.preprocessing import StandardScaler\n",
    "import matplotlib.pyplot as plt # plotting\n",
    "import numpy as np # linear algebra\n",
    "import os # accessing directory structure\n",
    "import pandas as pd # data processing, CSV file I/O (e.g. pd.read_csv)"
   ]
  },
  {
   "cell_type": "code",
   "execution_count": 2,
   "metadata": {},
   "outputs": [
    {
     "name": "stdout",
     "output_type": "stream",
     "text": [
      "There are 72 rows and 9 columns\n"
     ]
    }
   ],
   "source": [
    "nRowsRead = 1000 # specify 'None' if want to read whole file\n",
    "df1 = pd.read_csv('Michelin-Starred Restaurants.csv', delimiter=',', nrows = nRowsRead)\n",
    "df1.dataframeName = 'Michelin-Starred Restaurants.csv'\n",
    "nRow, nCol = df1.shape\n",
    "print(f'There are {nRow} rows and {nCol} columns')"
   ]
  },
  {
   "cell_type": "code",
   "execution_count": 3,
   "metadata": {
    "scrolled": true
   },
   "outputs": [
    {
     "data": {
      "text/html": [
       "<div>\n",
       "<style scoped>\n",
       "    .dataframe tbody tr th:only-of-type {\n",
       "        vertical-align: middle;\n",
       "    }\n",
       "\n",
       "    .dataframe tbody tr th {\n",
       "        vertical-align: top;\n",
       "    }\n",
       "\n",
       "    .dataframe thead th {\n",
       "        text-align: right;\n",
       "    }\n",
       "</style>\n",
       "<table border=\"1\" class=\"dataframe\">\n",
       "  <thead>\n",
       "    <tr style=\"text-align: right;\">\n",
       "      <th></th>\n",
       "      <th>Unnamed: 0</th>\n",
       "      <th>name</th>\n",
       "      <th>address</th>\n",
       "      <th>city</th>\n",
       "      <th>state</th>\n",
       "      <th>description</th>\n",
       "      <th>star</th>\n",
       "      <th>full_address</th>\n",
       "      <th>postal_code</th>\n",
       "    </tr>\n",
       "  </thead>\n",
       "  <tbody>\n",
       "    <tr>\n",
       "      <td>0</td>\n",
       "      <td>1</td>\n",
       "      <td>Sushi Inoue</td>\n",
       "      <td>381 Lenox Ave</td>\n",
       "      <td>New York</td>\n",
       "      <td>NY</td>\n",
       "      <td>ONE STAR for this Japanese restaurant in Harlem.</td>\n",
       "      <td>1</td>\n",
       "      <td>381 Lenox Ave, New York, NY 10027</td>\n",
       "      <td>10027</td>\n",
       "    </tr>\n",
       "    <tr>\n",
       "      <td>1</td>\n",
       "      <td>2</td>\n",
       "      <td>Dovetail</td>\n",
       "      <td>103 W 77th St</td>\n",
       "      <td>New York</td>\n",
       "      <td>NY</td>\n",
       "      <td>John Fraser's UWS fine dining restaurant has O...</td>\n",
       "      <td>1</td>\n",
       "      <td>103 W 77th St, New York, NY 10024</td>\n",
       "      <td>10024</td>\n",
       "    </tr>\n",
       "    <tr>\n",
       "      <td>2</td>\n",
       "      <td>3</td>\n",
       "      <td>Cafe Boulud</td>\n",
       "      <td>20 E 76th St</td>\n",
       "      <td>New York</td>\n",
       "      <td>NY</td>\n",
       "      <td>Daniel Boulud's beloved Upper East Side restau...</td>\n",
       "      <td>1</td>\n",
       "      <td>20 E 76th St, New York, NY 10021</td>\n",
       "      <td>10021</td>\n",
       "    </tr>\n",
       "    <tr>\n",
       "      <td>3</td>\n",
       "      <td>4</td>\n",
       "      <td>Jean-Georges</td>\n",
       "      <td>1 Central Park West</td>\n",
       "      <td>New York</td>\n",
       "      <td>NY</td>\n",
       "      <td>Jean-Georges Vongerichten's flagship restauran...</td>\n",
       "      <td>2</td>\n",
       "      <td>1 Central Park West, New York, NY 10023</td>\n",
       "      <td>10023</td>\n",
       "    </tr>\n",
       "    <tr>\n",
       "      <td>4</td>\n",
       "      <td>5</td>\n",
       "      <td>Masa</td>\n",
       "      <td>10 Columbus Cir</td>\n",
       "      <td>New York</td>\n",
       "      <td>NY</td>\n",
       "      <td>Masa Takayama's pricey sushi restaurant has TH...</td>\n",
       "      <td>3</td>\n",
       "      <td>10 Columbus Cir, New York, NY 10019</td>\n",
       "      <td>10019</td>\n",
       "    </tr>\n",
       "  </tbody>\n",
       "</table>\n",
       "</div>"
      ],
      "text/plain": [
       "   Unnamed: 0           name              address       city state  \\\n",
       "0           1    Sushi Inoue        381 Lenox Ave   New York    NY   \n",
       "1           2       Dovetail        103 W 77th St   New York    NY   \n",
       "2           3    Cafe Boulud         20 E 76th St   New York    NY   \n",
       "3           4   Jean-Georges  1 Central Park West   New York    NY   \n",
       "4           5           Masa      10 Columbus Cir   New York    NY   \n",
       "\n",
       "                                         description  star  \\\n",
       "0   ONE STAR for this Japanese restaurant in Harlem.     1   \n",
       "1  John Fraser's UWS fine dining restaurant has O...     1   \n",
       "2  Daniel Boulud's beloved Upper East Side restau...     1   \n",
       "3  Jean-Georges Vongerichten's flagship restauran...     2   \n",
       "4  Masa Takayama's pricey sushi restaurant has TH...     3   \n",
       "\n",
       "                              full_address  postal_code  \n",
       "0        381 Lenox Ave, New York, NY 10027        10027  \n",
       "1        103 W 77th St, New York, NY 10024        10024  \n",
       "2         20 E 76th St, New York, NY 10021        10021  \n",
       "3  1 Central Park West, New York, NY 10023        10023  \n",
       "4      10 Columbus Cir, New York, NY 10019        10019  "
      ]
     },
     "execution_count": 3,
     "metadata": {},
     "output_type": "execute_result"
    }
   ],
   "source": [
    "df1.head()"
   ]
  },
  {
   "cell_type": "code",
   "execution_count": 4,
   "metadata": {},
   "outputs": [],
   "source": [
    "# Import BeautifulSoup (just in case)\n",
    "from bs4 import BeautifulSoup as bs"
   ]
  },
  {
   "cell_type": "code",
   "execution_count": 5,
   "metadata": {},
   "outputs": [],
   "source": [
    "# Import Browser (just in case)\n",
    "from splinter import Browser\n",
    "from splinter.exceptions import ElementDoesNotExist"
   ]
  },
  {
   "cell_type": "code",
   "execution_count": 6,
   "metadata": {},
   "outputs": [
    {
     "data": {
      "text/plain": [
       "Index(['Unnamed: 0', 'name', 'address', 'city', 'state', 'description', 'star',\n",
       "       'full_address', 'postal_code'],\n",
       "      dtype='object')"
      ]
     },
     "execution_count": 6,
     "metadata": {},
     "output_type": "execute_result"
    }
   ],
   "source": [
    "# List out the columns in df1\n",
    "df1.columns"
   ]
  },
  {
   "cell_type": "code",
   "execution_count": 7,
   "metadata": {},
   "outputs": [
    {
     "data": {
      "text/html": [
       "<div>\n",
       "<style scoped>\n",
       "    .dataframe tbody tr th:only-of-type {\n",
       "        vertical-align: middle;\n",
       "    }\n",
       "\n",
       "    .dataframe tbody tr th {\n",
       "        vertical-align: top;\n",
       "    }\n",
       "\n",
       "    .dataframe thead th {\n",
       "        text-align: right;\n",
       "    }\n",
       "</style>\n",
       "<table border=\"1\" class=\"dataframe\">\n",
       "  <thead>\n",
       "    <tr style=\"text-align: right;\">\n",
       "      <th></th>\n",
       "      <th>Unnamed: 0</th>\n",
       "      <th>address</th>\n",
       "      <th>city</th>\n",
       "      <th>state</th>\n",
       "      <th>description</th>\n",
       "      <th>star</th>\n",
       "      <th>full_address</th>\n",
       "      <th>postal_code</th>\n",
       "    </tr>\n",
       "    <tr>\n",
       "      <th>name</th>\n",
       "      <th></th>\n",
       "      <th></th>\n",
       "      <th></th>\n",
       "      <th></th>\n",
       "      <th></th>\n",
       "      <th></th>\n",
       "      <th></th>\n",
       "      <th></th>\n",
       "    </tr>\n",
       "  </thead>\n",
       "  <tbody>\n",
       "    <tr>\n",
       "      <td>Sushi Inoue</td>\n",
       "      <td>1</td>\n",
       "      <td>381 Lenox Ave</td>\n",
       "      <td>New York</td>\n",
       "      <td>NY</td>\n",
       "      <td>ONE STAR for this Japanese restaurant in Harlem.</td>\n",
       "      <td>1</td>\n",
       "      <td>381 Lenox Ave, New York, NY 10027</td>\n",
       "      <td>10027</td>\n",
       "    </tr>\n",
       "    <tr>\n",
       "      <td>Dovetail</td>\n",
       "      <td>2</td>\n",
       "      <td>103 W 77th St</td>\n",
       "      <td>New York</td>\n",
       "      <td>NY</td>\n",
       "      <td>John Fraser's UWS fine dining restaurant has O...</td>\n",
       "      <td>1</td>\n",
       "      <td>103 W 77th St, New York, NY 10024</td>\n",
       "      <td>10024</td>\n",
       "    </tr>\n",
       "    <tr>\n",
       "      <td>Cafe Boulud</td>\n",
       "      <td>3</td>\n",
       "      <td>20 E 76th St</td>\n",
       "      <td>New York</td>\n",
       "      <td>NY</td>\n",
       "      <td>Daniel Boulud's beloved Upper East Side restau...</td>\n",
       "      <td>1</td>\n",
       "      <td>20 E 76th St, New York, NY 10021</td>\n",
       "      <td>10021</td>\n",
       "    </tr>\n",
       "    <tr>\n",
       "      <td>Jean-Georges</td>\n",
       "      <td>4</td>\n",
       "      <td>1 Central Park West</td>\n",
       "      <td>New York</td>\n",
       "      <td>NY</td>\n",
       "      <td>Jean-Georges Vongerichten's flagship restauran...</td>\n",
       "      <td>2</td>\n",
       "      <td>1 Central Park West, New York, NY 10023</td>\n",
       "      <td>10023</td>\n",
       "    </tr>\n",
       "    <tr>\n",
       "      <td>Masa</td>\n",
       "      <td>5</td>\n",
       "      <td>10 Columbus Cir</td>\n",
       "      <td>New York</td>\n",
       "      <td>NY</td>\n",
       "      <td>Masa Takayama's pricey sushi restaurant has TH...</td>\n",
       "      <td>3</td>\n",
       "      <td>10 Columbus Cir, New York, NY 10019</td>\n",
       "      <td>10019</td>\n",
       "    </tr>\n",
       "  </tbody>\n",
       "</table>\n",
       "</div>"
      ],
      "text/plain": [
       "               Unnamed: 0              address       city state  \\\n",
       "name                                                              \n",
       " Sushi Inoue            1        381 Lenox Ave   New York    NY   \n",
       " Dovetail               2        103 W 77th St   New York    NY   \n",
       " Cafe Boulud            3         20 E 76th St   New York    NY   \n",
       " Jean-Georges           4  1 Central Park West   New York    NY   \n",
       " Masa                   5      10 Columbus Cir   New York    NY   \n",
       "\n",
       "                                                     description  star  \\\n",
       "name                                                                     \n",
       " Sushi Inoue    ONE STAR for this Japanese restaurant in Harlem.     1   \n",
       " Dovetail      John Fraser's UWS fine dining restaurant has O...     1   \n",
       " Cafe Boulud   Daniel Boulud's beloved Upper East Side restau...     1   \n",
       " Jean-Georges  Jean-Georges Vongerichten's flagship restauran...     2   \n",
       " Masa          Masa Takayama's pricey sushi restaurant has TH...     3   \n",
       "\n",
       "                                          full_address  postal_code  \n",
       "name                                                                 \n",
       " Sushi Inoue         381 Lenox Ave, New York, NY 10027        10027  \n",
       " Dovetail            103 W 77th St, New York, NY 10024        10024  \n",
       " Cafe Boulud          20 E 76th St, New York, NY 10021        10021  \n",
       " Jean-Georges  1 Central Park West, New York, NY 10023        10023  \n",
       " Masa              10 Columbus Cir, New York, NY 10019        10019  "
      ]
     },
     "execution_count": 7,
     "metadata": {},
     "output_type": "execute_result"
    }
   ],
   "source": [
    "# Create Michelin df w/ set to restuarant name\n",
    "michelin_df = df1.set_index('name')\n",
    "michelin_df.drop([\"Unnamed: 0\"], axis=1)\n",
    "michelin_df.head()"
   ]
  },
  {
   "cell_type": "code",
   "execution_count": 8,
   "metadata": {},
   "outputs": [
    {
     "data": {
      "text/plain": [
       "Index(['Unnamed: 0', 'address', 'city', 'state', 'description', 'star',\n",
       "       'full_address', 'postal_code'],\n",
       "      dtype='object')"
      ]
     },
     "execution_count": 8,
     "metadata": {},
     "output_type": "execute_result"
    }
   ],
   "source": [
    "michelin_df.columns"
   ]
  },
  {
   "cell_type": "code",
   "execution_count": 9,
   "metadata": {},
   "outputs": [],
   "source": [
    "# Create a sqlite Database\n",
    "from sqlalchemy import create_engine\n",
    "engine = create_engine('sqlite:///restaurants.sqlite', echo=False)"
   ]
  },
  {
   "cell_type": "code",
   "execution_count": 10,
   "metadata": {},
   "outputs": [],
   "source": [
    "# Convert to sqlite\n",
    "michelin_df.to_sql('restaurants', con=engine, if_exists=\"replace\")"
   ]
  },
  {
   "cell_type": "code",
   "execution_count": null,
   "metadata": {},
   "outputs": [],
   "source": []
  }
 ],
 "metadata": {
  "kernelspec": {
   "display_name": "Python 3",
   "language": "python",
   "name": "python3"
  },
  "language_info": {
   "codemirror_mode": {
    "name": "ipython",
    "version": 3
   },
   "file_extension": ".py",
   "mimetype": "text/x-python",
   "name": "python",
   "nbconvert_exporter": "python",
   "pygments_lexer": "ipython3",
   "version": "3.7.4"
  }
 },
 "nbformat": 4,
 "nbformat_minor": 2
}
